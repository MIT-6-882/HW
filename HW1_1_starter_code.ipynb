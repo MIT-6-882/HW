{
 "cells": [
  {
   "cell_type": "code",
   "execution_count": null,
   "metadata": {
    "colab": {
     "base_uri": "https://localhost:8080/",
     "height": 1000
    },
    "colab_type": "code",
    "id": "bf-wPeAaeaRf",
    "outputId": "5eee15f2-567e-4464-bdcd-28298daffa31"
   },
   "outputs": [],
   "source": [
    "# Install dependencies (run this once ever 12 hours)\n",
    "!pip install --upgrade pip\n",
    "!pip install --force-reinstall git+https://github.com/MIT-6-882/HW1"
   ]
  },
  {
   "cell_type": "code",
   "execution_count": null,
   "metadata": {
    "colab": {},
    "colab_type": "code",
    "id": "pZcA8P9WfDaT"
   },
   "outputs": [],
   "source": [
    "import gym\n",
    "import pddlgym\n",
    "import numpy as np\n",
    "import matplotlib.pyplot as plt\n",
    "np.random.seed(0)"
   ]
  },
  {
   "cell_type": "code",
   "execution_count": null,
   "metadata": {
    "colab": {},
    "colab_type": "code",
    "id": "QrXFiUQSmlsc"
   },
   "outputs": [],
   "source": [
    "def display_image(img, title=None):\n",
    "    \"\"\"Render a figure inline\n",
    "    \"\"\"\n",
    "    plt.figure()\n",
    "    if title:\n",
    "        plt.title(title)\n",
    "    plt.imshow(img)\n",
    "    _ = plt.axis('off')\n",
    "\n",
    "def display_environment_info(env, num_problems_to_show=5):\n",
    "    \"\"\"Render the first few states of the environment and report how many initial states there are.\n",
    "    \"\"\"\n",
    "    num_initial_states = len(env.problems)\n",
    "    num_problems_to_show = min(num_problems_to_show, num_initial_states)\n",
    "\n",
    "    print(f\"This environment has {num_initial_states} initial states. Here are the first {num_problems_to_show} rendered:\")\n",
    "    fig, axes = plt.subplots(1, num_problems_to_show, figsize=(num_problems_to_show*5, 5))\n",
    "    for idx, ax in enumerate(axes):\n",
    "        env.fix_problem_index(idx)\n",
    "        env.reset()\n",
    "        img = env.render()\n",
    "        ax.imshow(img)\n",
    "        ax.axis('off')"
   ]
  },
  {
   "cell_type": "code",
   "execution_count": null,
   "metadata": {
    "colab": {
     "base_uri": "https://localhost:8080/",
     "height": 288
    },
    "colab_type": "code",
    "id": "O6Y83zIRoVrC",
    "outputId": "d200b19f-33a2-47dc-8104-a4fe980e4892",
    "scrolled": true
   },
   "outputs": [],
   "source": [
    "level1_env = gym.make(\"SearchAndRescueLevel1-v0\")\n",
    "display_environment_info(level1_env)"
   ]
  },
  {
   "cell_type": "code",
   "execution_count": null,
   "metadata": {
    "colab": {
     "base_uri": "https://localhost:8080/",
     "height": 288
    },
    "colab_type": "code",
    "id": "81R7-l6IpNfm",
    "outputId": "944877c0-07bd-46aa-f973-2b40829487c3"
   },
   "outputs": [],
   "source": [
    "level2_env = gym.make(\"SearchAndRescueLevel2-v0\")\n",
    "display_environment_info(level2_env)"
   ]
  },
  {
   "cell_type": "code",
   "execution_count": null,
   "metadata": {},
   "outputs": [],
   "source": [
    "wild_env = gym.make(\"SearchAndRescueLevel1-v0\")\n",
    "wild_env.fix_problem_index(0)\n",
    "initial_state, debug_info = wild_env.reset()\n",
    "display_image(wild_env.render_from_state(initial_state), \"Initial state\")\n",
    "\n",
    "actions = dropoff, move_down, move_left, move_right, move_up, pickup_person0 = wild_env.get_possible_actions()\n",
    "print(\"All possible actions:\", actions)\n",
    "\n",
    "action_sequence = [move_left, move_left, move_down, move_left, pickup_person0, move_right, dropoff, move_up]\n",
    "for action in action_sequence:\n",
    "    state, reward, done, debug_info = wild_env.step(action)\n",
    "    display_image(wild_env.render_from_state(state), f\"State after action {action}\")"
   ]
  },
  {
   "cell_type": "code",
   "execution_count": null,
   "metadata": {},
   "outputs": [],
   "source": [
    "factory_env = gym.make(\"SearchAndRescueLevel1-v0\", render_version=\"fast\")\n",
    "display_image(factory_env.render_from_state(initial_state), \"Initial state\")\n",
    "\n",
    "state = initial_state\n",
    "action_sequence = [move_left, move_left, move_down, move_left, pickup_person0, move_right, dropoff, move_up]\n",
    "for action in action_sequence:\n",
    "    state = factory_env.get_successor_state(state, action)\n",
    "    display_image(factory_env.render_from_state(state), f\"State after action {action}\")"
   ]
  },
  {
   "cell_type": "code",
   "execution_count": null,
   "metadata": {},
   "outputs": [],
   "source": []
  }
 ],
 "metadata": {
  "colab": {
   "collapsed_sections": [],
   "name": "HW1.1_starter_code.ipynb",
   "provenance": []
  },
  "kernelspec": {
   "display_name": "Python 3",
   "language": "python",
   "name": "python3"
  },
  "language_info": {
   "codemirror_mode": {
    "name": "ipython",
    "version": 3
   },
   "file_extension": ".py",
   "mimetype": "text/x-python",
   "name": "python",
   "nbconvert_exporter": "python",
   "pygments_lexer": "ipython3",
   "version": "3.6.7"
  }
 },
 "nbformat": 4,
 "nbformat_minor": 1
}
