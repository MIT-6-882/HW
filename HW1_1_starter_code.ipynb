{
 "cells": [
  {
   "cell_type": "markdown",
   "metadata": {},
   "source": [
    "# 6.882 HW 1.1 Starter Code\n",
    "\n",
    "See the problem set handout for instructions and deliverables.\n",
    "\n",
    "###  Installing Dependencies (PDDLGym)\n",
    "The main dependency that we will use in this and some future problem sets is [PDDLGym](https://github.com/tomsilver/pddlgym). PDDLGym is a package developed by us. The bad news is that it almost certainly has bugs. The good news is that we can fix those bugs quickly when you find them. If you encounter any strange behavior, please contact course staff or open an issue through Github.\n",
    "\n",
    "**Important:** Since PDDLGym will be updating throughout the course, it is important that you _install from source_ at the beginning of each problem set, rather than via ~pip install pddlgym~. The recommended way to install from source is: `pip install --upgrade git+https://github.com/tomsilver/pddlgym`. We take care of this for you at the top of this notebook."
   ]
  },
  {
   "cell_type": "code",
   "execution_count": null,
   "metadata": {
    "colab": {
     "base_uri": "https://localhost:8080/",
     "height": 1000
    },
    "colab_type": "code",
    "id": "bf-wPeAaeaRf",
    "outputId": "5eee15f2-567e-4464-bdcd-28298daffa31"
   },
   "outputs": [],
   "source": [
    "# Install dependencies (run this once ever 12 hours)\n",
    "!pip install --upgrade git+https://github.com/tomsilver/pddlgym # Install most recent PDDLGym (must be from source!)"
   ]
  },
  {
   "cell_type": "markdown",
   "metadata": {},
   "source": [
    "### Key Environment Functions"
   ]
  },
  {
   "cell_type": "code",
   "execution_count": null,
   "metadata": {},
   "outputs": [],
   "source": [
    "import pddlgym\n",
    "import time\n",
    "\n",
    "# Create an environment\n",
    "env = pddlgym.make(\"SearchAndRescueLevel1-v0\")\n",
    "# Check the number of problems\n",
    "num_problems = len(env.problems)\n",
    "# Fix the environment to the first problem\n",
    "env.fix_problem_index(0)\n",
    "# Reset the environment to the initial state\n",
    "state, debug_info = env.reset()\n",
    "# Get the available actions\n",
    "actions = env.get_possible_actions()\n",
    "# Compute a successor state (without advancing the env)\n",
    "next_state = env.get_successor_state(state, actions[0])\n",
    "# Check goal\n",
    "goal_satisfied = env.check_goal(next_state)\n",
    "# Advance the environment\n",
    "state, reward, done, info = env.step(actions[0])"
   ]
  },
  {
   "cell_type": "markdown",
   "metadata": {},
   "source": [
    "### Rendering Utilities"
   ]
  },
  {
   "cell_type": "code",
   "execution_count": null,
   "metadata": {
    "colab": {},
    "colab_type": "code",
    "id": "QrXFiUQSmlsc"
   },
   "outputs": [],
   "source": [
    "import matplotlib.pyplot as plt\n",
    "\n",
    "def display_image(img, title=None):\n",
    "    \"\"\"Render a figure inline\n",
    "    \"\"\"\n",
    "    plt.figure()\n",
    "    if title:\n",
    "        plt.title(title)\n",
    "    plt.imshow(img)\n",
    "    _ = plt.axis('off')"
   ]
  },
  {
   "cell_type": "markdown",
   "metadata": {},
   "source": [
    "### Example Code Snippets"
   ]
  },
  {
   "cell_type": "code",
   "execution_count": null,
   "metadata": {},
   "outputs": [],
   "source": [
    "def run_plan_execution_example():\n",
    "    \"\"\"Example demonstrating how to run a plan in the environment.\n",
    "    \"\"\"\n",
    "    env = pddlgym.make(\"SearchAndRescueLevel1-v0\")\n",
    "    env.fix_problem_index(0)\n",
    "    state, _ = env.reset()\n",
    "    # NOTE: You should not render/display images when you are collecting final statistics.\n",
    "    # Rendering is only included for your convenience during development/debugging.\n",
    "    display_image(env.render_from_state(state), \"Initial state\")\n",
    "    timeout = 10\n",
    "    start_time = time.time()\n",
    "    \n",
    "    actions = dropoff, move_down, move_left, move_right, move_up, pickup_person0 = env.get_possible_actions()\n",
    "    plan = [move_left, move_left, move_down, move_left, pickup_person0, move_right, move_up, move_right, \n",
    "            move_right, move_down, dropoff]\n",
    "    \n",
    "    for action in plan:\n",
    "        # Terminate early if time has run out\n",
    "        if time.time() - start_time > timeout:\n",
    "            break\n",
    "        # Advance the state of the environment\n",
    "        state, reward, done, debug_info = env.step(action)\n",
    "        # NOTE: You should not render/display images when you are collecting final statistics.\n",
    "        # Rendering is only included for your convenience during development/debugging.\n",
    "        display_image(env.render_from_state(state), f\"Took action {action}. Goal reached? {reward == 1}\")"
   ]
  },
  {
   "cell_type": "code",
   "execution_count": null,
   "metadata": {},
   "outputs": [],
   "source": [
    "def run_get_successor_example():\n",
    "    \"\"\"Example demonstrating how to get successors and check goals.\n",
    "    \"\"\"\n",
    "    env = pddlgym.make(\"SearchAndRescueLevel1-v0\")\n",
    "    env.fix_problem_index(0)\n",
    "    initial_state, _ = env.reset()\n",
    "    # NOTE: You should not render/display images when you are collecting final statistics.\n",
    "    # Rendering is only included for your convenience during development/debugging.\n",
    "    display_image(env.render_from_state(initial_state), \"Initial state\")\n",
    "    \n",
    "    actions = dropoff, move_down, move_left, move_right, move_up, pickup_person0 = env.get_possible_actions()\n",
    "    \n",
    "    for action in actions:\n",
    "        state = env.get_successor_state(initial_state, action)\n",
    "        goal_reached = env.check_goal(state)\n",
    "        # NOTE: You should not render/display images when you are collecting final statistics.\n",
    "        # Rendering is only included for your convenience during development/debugging.\n",
    "        display_image(env.render_from_state(state), f\"Candidate action: {action}. Goal reached? {goal_reached}\")"
   ]
  },
  {
   "cell_type": "code",
   "execution_count": null,
   "metadata": {},
   "outputs": [],
   "source": [
    "run_plan_execution_example()"
   ]
  },
  {
   "cell_type": "code",
   "execution_count": null,
   "metadata": {},
   "outputs": [],
   "source": [
    "run_get_successor_example()"
   ]
  },
  {
   "cell_type": "code",
   "execution_count": null,
   "metadata": {},
   "outputs": [],
   "source": []
  }
 ],
 "metadata": {
  "colab": {
   "collapsed_sections": [],
   "name": "HW1.1_starter_code.ipynb",
   "provenance": []
  },
  "kernelspec": {
   "display_name": "Python 3",
   "language": "python",
   "name": "python3"
  },
  "language_info": {
   "codemirror_mode": {
    "name": "ipython",
    "version": 3
   },
   "file_extension": ".py",
   "mimetype": "text/x-python",
   "name": "python",
   "nbconvert_exporter": "python",
   "pygments_lexer": "ipython3",
   "version": "3.6.7"
  }
 },
 "nbformat": 4,
 "nbformat_minor": 1
}
